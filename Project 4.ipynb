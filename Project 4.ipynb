{
 "cells": [
  {
   "cell_type": "markdown",
   "metadata": {},
   "source": [
    "# Learning and Intelligent Systems - Spring 2015\n",
    "\n",
    "## Project 4: Missing Data"
   ]
  },
  {
   "cell_type": "code",
   "execution_count": null,
   "metadata": {
    "collapsed": true
   },
   "outputs": [],
   "source": [
    "import numpy as np\n",
    "import matplotlib.pylab as plt\n",
    "import pandas as pd\n",
    "%matplotlib inline"
   ]
  },
  {
   "cell_type": "code",
   "execution_count": null,
   "metadata": {
    "collapsed": true
   },
   "outputs": [],
   "source": [
    "df_train = pd.read_csv('train.csv', header = None)\n",
    "df_train_y = pd.read_csv('train_y.csv', header = None)"
   ]
  },
  {
   "cell_type": "code",
   "execution_count": null,
   "metadata": {
    "collapsed": true
   },
   "outputs": [],
   "source": [
    "df_val = pd.read_csv('validate.csv', header = None)\n",
    "df_val_y = pd.DataFrame(np.zeros((df_val.shape[0],1)).astype(np.int))\n",
    "df_val_y.iloc[:,:] = -1"
   ]
  },
  {
   "cell_type": "code",
   "execution_count": null,
   "metadata": {
    "collapsed": true
   },
   "outputs": [],
   "source": [
    "df_test = pd.read_csv('test.csv', header = None)\n",
    "df_test_y = pd.DataFrame(np.zeros((df_test.shape[0],1)).astype(np.int))\n",
    "df_test_y.iloc[:,:] = -1"
   ]
  },
  {
   "cell_type": "code",
   "execution_count": null,
   "metadata": {
    "collapsed": true
   },
   "outputs": [],
   "source": [
    "x_semi = pd.concat([df_train, df_val, df_test]).astype(np.float64)\n",
    "y_semi = pd.concat([df_train_y, df_val_y, df_test_y])"
   ]
  },
  {
   "cell_type": "code",
   "execution_count": null,
   "metadata": {
    "collapsed": true
   },
   "outputs": [],
   "source": [
    "from sklearn.semi_supervised import LabelSpreading\n",
    "\n",
    "label_model_knn = LabelSpreading(kernel='knn', n_neighbors=50)\n",
    "label_model_knn.fit(x_semi.values, y_semi.values.flatten())"
   ]
  },
  {
   "cell_type": "code",
   "execution_count": null,
   "metadata": {
    "collapsed": true
   },
   "outputs": [],
   "source": [
    "pred_test_proba = label_model_knn.predict_proba(df_test)\n",
    "pred_test_proba = pd.DataFrame(pred_test_proba)\n",
    "pred_test_proba.fillna(value=0).to_csv('result-test-labelspreading-knn50-fillna.csv', header = False, low_memory=False, index=False, dtype=np.float32)"
   ]
  }
 ],
 "metadata": {
  "kernelspec": {
   "display_name": "Python 2",
   "language": "python",
   "name": "python2"
  },
  "language_info": {
   "codemirror_mode": {
    "name": "ipython",
    "version": 2
   },
   "file_extension": ".py",
   "mimetype": "text/x-python",
   "name": "python",
   "nbconvert_exporter": "python",
   "pygments_lexer": "ipython2",
   "version": "2.7.10"
  }
 },
 "nbformat": 4,
 "nbformat_minor": 0
}
