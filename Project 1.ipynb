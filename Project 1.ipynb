{
 "cells": [
  {
   "cell_type": "markdown",
   "metadata": {},
   "source": [
    "# Learning and Intelligent Systems - Spring 2015\n",
    "\n",
    "## Project 1: Regression"
   ]
  },
  {
   "cell_type": "code",
   "execution_count": 12,
   "metadata": {
    "collapsed": false
   },
   "outputs": [],
   "source": [
    "import numpy as np\n",
    "import csv\n",
    "import datetime"
   ]
  },
  {
   "cell_type": "code",
   "execution_count": 13,
   "metadata": {
    "collapsed": false
   },
   "outputs": [],
   "source": [
    "def get_features(row):\n",
    "    vec = []\n",
    "    t = datetime.datetime.strptime(row[0], '%Y-%m-%d %H:%M:%S')\n",
    "    features = [t.year, t.month, t.day, t.weekday(), t.hour, row[1], row[2], row[3], row[4], row[5], row[6]]\n",
    "    vec = np.concatenate((vec, features), axis=1)\n",
    "    return vec\n",
    "\n",
    "def read_data(inpath):\n",
    "    X = []\n",
    "    with open(inpath, 'r') as fin:\n",
    "        reader = csv.reader(fin, delimiter=',')\n",
    "        for row in reader:\n",
    "            X.append(get_features(row))\n",
    "    return np.atleast_2d(X)"
   ]
  },
  {
   "cell_type": "code",
   "execution_count": 14,
   "metadata": {
    "collapsed": false
   },
   "outputs": [],
   "source": [
    "X = read_data('train.csv')\n",
    "Y = np.genfromtxt('train_y.csv', delimiter=',')\n",
    "\n",
    "X = np.array(X).astype(np.float)\n",
    "Y = np.array(Y).astype(np.float)\n",
    "\n",
    "log_y = np.log(1+Y)"
   ]
  },
  {
   "cell_type": "code",
   "execution_count": 15,
   "metadata": {
    "collapsed": false
   },
   "outputs": [],
   "source": [
    "def logscore(gtruth, pred):\n",
    "    pred = np.clip(pred,0, np.inf)\n",
    "    logdif = np.log(1 + gtruth) - np.log(1 + pred)\n",
    "    return np.sqrt(np.mean(np.square(logdif)))\n"
   ]
  },
  {
   "cell_type": "code",
   "execution_count": 31,
   "metadata": {
    "collapsed": true
   },
   "outputs": [],
   "source": [
    "def logscore2(gtruth, pred):\n",
    "    return np.sqrt(np.mean(np.square(gtruth - pred)))"
   ]
  },
  {
   "cell_type": "code",
   "execution_count": 27,
   "metadata": {
    "collapsed": false
   },
   "outputs": [],
   "source": [
    "from operator import itemgetter\n",
    "\n",
    "def report(random_search,  n_top=3):\n",
    "    top_scores = sorted(random_search.grid_scores_, key=itemgetter(1), reverse=True)[:n_top]\n",
    "    for i, score in enumerate(top_scores):\n",
    "        print(\"Model with rank: {0}\".format(i + 1))\n",
    "        print(\"Mean validation score: {0:.3f} (std: {1:.3f})\".format(\n",
    "              score.mean_validation_score,\n",
    "              np.std(score.cv_validation_scores)))\n",
    "        print(\"Parameters: {0}\".format(score.parameters))\n",
    "        print(\"\")\n"
   ]
  },
  {
   "cell_type": "code",
   "execution_count": 35,
   "metadata": {
    "collapsed": false
   },
   "outputs": [
    {
     "name": "stdout",
     "output_type": "stream",
     "text": [
      "Fitting 5 folds for each of 20 candidates, totalling 100 fits\n",
      "[CV] model__max_depth=8, model__learning_rate=0.1, model__n_estimators=300 \n",
      "[CV]  model__max_depth=8, model__learning_rate=0.1, model__n_estimators=300 -  11.4s\n",
      "[CV] model__max_depth=8, model__learning_rate=0.1, model__n_estimators=300 \n",
      "[CV]  model__max_depth=8, model__learning_rate=0.1, model__n_estimators=300 -  13.2s\n",
      "[CV] model__max_depth=8, model__learning_rate=0.1, model__n_estimators=300 \n",
      "[CV]  model__max_depth=8, model__learning_rate=0.1, model__n_estimators=300 -  15.2s\n",
      "[CV] model__max_depth=8, model__learning_rate=0.1, model__n_estimators=300 \n",
      "[CV]  model__max_depth=8, model__learning_rate=0.1, model__n_estimators=300 -  14.4s\n",
      "[CV] model__max_depth=8, model__learning_rate=0.1, model__n_estimators=300 \n",
      "[CV]  model__max_depth=8, model__learning_rate=0.1, model__n_estimators=300 -  14.9s\n",
      "[CV] model__max_depth=10, model__learning_rate=0.1, model__n_estimators=500 \n",
      "[CV]  model__max_depth=10, model__learning_rate=0.1, model__n_estimators=500 -  37.0s\n",
      "[CV] model__max_depth=10, model__learning_rate=0.1, model__n_estimators=500 \n",
      "[CV]  model__max_depth=10, model__learning_rate=0.1, model__n_estimators=500 -  40.3s\n",
      "[CV] model__max_depth=10, model__learning_rate=0.1, model__n_estimators=500 \n",
      "[CV]  model__max_depth=10, model__learning_rate=0.1, model__n_estimators=500 -  39.8s\n",
      "[CV] model__max_depth=10, model__learning_rate=0.1, model__n_estimators=500 \n",
      "[CV]  model__max_depth=10, model__learning_rate=0.1, model__n_estimators=500 -  40.6s\n",
      "[CV] model__max_depth=10, model__learning_rate=0.1, model__n_estimators=500 \n",
      "[CV]  model__max_depth=10, model__learning_rate=0.1, model__n_estimators=500 -  40.6s\n",
      "[CV] model__max_depth=6, model__learning_rate=0.03, model__n_estimators=500 \n",
      "[CV]  model__max_depth=6, model__learning_rate=0.03, model__n_estimators=500 -  12.5s\n",
      "[CV] model__max_depth=6, model__learning_rate=0.03, model__n_estimators=500 \n",
      "[CV]  model__max_depth=6, model__learning_rate=0.03, model__n_estimators=500 -  13.0s\n",
      "[CV] model__max_depth=6, model__learning_rate=0.03, model__n_estimators=500 \n",
      "[CV]  model__max_depth=6, model__learning_rate=0.03, model__n_estimators=500 -  13.4s\n",
      "[CV] model__max_depth=6, model__learning_rate=0.03, model__n_estimators=500 \n",
      "[CV]  model__max_depth=6, model__learning_rate=0.03, model__n_estimators=500 -  13.6s\n",
      "[CV] model__max_depth=6, model__learning_rate=0.03, model__n_estimators=500 \n",
      "[CV]  model__max_depth=6, model__learning_rate=0.03, model__n_estimators=500 -  13.4s\n",
      "[CV] model__max_depth=6, model__learning_rate=0.03, model__n_estimators=500 \n",
      "[CV]  model__max_depth=6, model__learning_rate=0.03, model__n_estimators=500 -  12.6s\n",
      "[CV] model__max_depth=6, model__learning_rate=0.03, model__n_estimators=500 \n",
      "[CV]  model__max_depth=6, model__learning_rate=0.03, model__n_estimators=500 -  12.7s\n",
      "[CV] model__max_depth=6, model__learning_rate=0.03, model__n_estimators=500 \n",
      "[CV]  model__max_depth=6, model__learning_rate=0.03, model__n_estimators=500 -  13.4s\n",
      "[CV] model__max_depth=6, model__learning_rate=0.03, model__n_estimators=500 \n",
      "[CV]  model__max_depth=6, model__learning_rate=0.03, model__n_estimators=500 -  13.6s\n",
      "[CV] model__max_depth=6, model__learning_rate=0.03, model__n_estimators=500 \n",
      "[CV]  model__max_depth=6, model__learning_rate=0.03, model__n_estimators=500 -  13.2s\n",
      "[CV] model__max_depth=10, model__learning_rate=0.1, model__n_estimators=500 \n",
      "[CV]  model__max_depth=10, model__learning_rate=0.1, model__n_estimators=500 -  37.0s\n",
      "[CV] model__max_depth=10, model__learning_rate=0.1, model__n_estimators=500 \n",
      "[CV]  model__max_depth=10, model__learning_rate=0.1, model__n_estimators=500 -  37.8s\n",
      "[CV] model__max_depth=10, model__learning_rate=0.1, model__n_estimators=500 \n",
      "[CV]  model__max_depth=10, model__learning_rate=0.1, model__n_estimators=500 -  40.0s\n",
      "[CV] model__max_depth=10, model__learning_rate=0.1, model__n_estimators=500 \n",
      "[CV]  model__max_depth=10, model__learning_rate=0.1, model__n_estimators=500 -  39.8s\n",
      "[CV] model__max_depth=10, model__learning_rate=0.1, model__n_estimators=500 \n",
      "[CV]  model__max_depth=10, model__learning_rate=0.1, model__n_estimators=500 -  45.8s\n",
      "[CV] model__max_depth=8, model__learning_rate=0.1, model__n_estimators=500 \n",
      "[CV]  model__max_depth=8, model__learning_rate=0.1, model__n_estimators=500 -  21.5s\n",
      "[CV] model__max_depth=8, model__learning_rate=0.1, model__n_estimators=500 \n",
      "[CV]  model__max_depth=8, model__learning_rate=0.1, model__n_estimators=500 -  23.3s\n",
      "[CV] model__max_depth=8, model__learning_rate=0.1, model__n_estimators=500 \n",
      "[CV]  model__max_depth=8, model__learning_rate=0.1, model__n_estimators=500 -  22.3s\n",
      "[CV] model__max_depth=8, model__learning_rate=0.1, model__n_estimators=500 \n",
      "[CV]  model__max_depth=8, model__learning_rate=0.1, model__n_estimators=500 -  23.6s\n",
      "[CV] model__max_depth=8, model__learning_rate=0.1, model__n_estimators=500 \n",
      "[CV]  model__max_depth=8, model__learning_rate=0.1, model__n_estimators=500 -  23.1s\n",
      "[CV] model__max_depth=10, model__learning_rate=0.1, model__n_estimators=500 \n",
      "[CV]  model__max_depth=10, model__learning_rate=0.1, model__n_estimators=500 -  36.0s\n",
      "[CV] model__max_depth=10, model__learning_rate=0.1, model__n_estimators=500 \n",
      "[CV]  model__max_depth=10, model__learning_rate=0.1, model__n_estimators=500 -  36.8s\n",
      "[CV] model__max_depth=10, model__learning_rate=0.1, model__n_estimators=500 \n",
      "[CV]  model__max_depth=10, model__learning_rate=0.1, model__n_estimators=500 -  39.1s\n",
      "[CV] model__max_depth=10, model__learning_rate=0.1, model__n_estimators=500 \n",
      "[CV]  model__max_depth=10, model__learning_rate=0.1, model__n_estimators=500 -  39.0s\n",
      "[CV] model__max_depth=10, model__learning_rate=0.1, model__n_estimators=500 \n",
      "[CV]  model__max_depth=10, model__learning_rate=0.1, model__n_estimators=500 -  40.3s\n",
      "[CV] model__max_depth=4, model__learning_rate=0.1, model__n_estimators=300 \n",
      "[CV]  model__max_depth=4, model__learning_rate=0.1, model__n_estimators=300 -   3.8s\n",
      "[CV] model__max_depth=4, model__learning_rate=0.1, model__n_estimators=300 \n",
      "[CV]  model__max_depth=4, model__learning_rate=0.1, model__n_estimators=300 -   3.7s\n",
      "[CV] model__max_depth=4, model__learning_rate=0.1, model__n_estimators=300 \n",
      "[CV]  model__max_depth=4, model__learning_rate=0.1, model__n_estimators=300 -   4.0s\n",
      "[CV] model__max_depth=4, model__learning_rate=0.1, model__n_estimators=300 \n",
      "[CV]  model__max_depth=4, model__learning_rate=0.1, model__n_estimators=300 -   3.9s\n",
      "[CV] model__max_depth=4, model__learning_rate=0.1, model__n_estimators=300 \n",
      "[CV]  model__max_depth=4, model__learning_rate=0.1, model__n_estimators=300 -   3.9s\n",
      "[CV] model__max_depth=5, model__learning_rate=0.03, model__n_estimators=300 \n",
      "[CV]  model__max_depth=5, model__learning_rate=0.03, model__n_estimators=300 -   5.5s"
     ]
    },
    {
     "name": "stderr",
     "output_type": "stream",
     "text": [
      "[Parallel(n_jobs=1)]: Done   1 jobs       | elapsed:   11.4s\n",
      "[Parallel(n_jobs=1)]: Done  41 jobs       | elapsed: 15.5min\n"
     ]
    },
    {
     "name": "stdout",
     "output_type": "stream",
     "text": [
      "\n",
      "[CV] model__max_depth=5, model__learning_rate=0.03, model__n_estimators=300 \n",
      "[CV]  model__max_depth=5, model__learning_rate=0.03, model__n_estimators=300 -   5.7s\n",
      "[CV] model__max_depth=5, model__learning_rate=0.03, model__n_estimators=300 \n",
      "[CV]  model__max_depth=5, model__learning_rate=0.03, model__n_estimators=300 -   6.0s\n",
      "[CV] model__max_depth=5, model__learning_rate=0.03, model__n_estimators=300 \n",
      "[CV]  model__max_depth=5, model__learning_rate=0.03, model__n_estimators=300 -   5.9s\n",
      "[CV] model__max_depth=5, model__learning_rate=0.03, model__n_estimators=300 \n",
      "[CV]  model__max_depth=5, model__learning_rate=0.03, model__n_estimators=300 -   6.4s\n",
      "[CV] model__max_depth=3, model__learning_rate=0.1, model__n_estimators=300 \n",
      "[CV]  model__max_depth=3, model__learning_rate=0.1, model__n_estimators=300 -   2.6s\n",
      "[CV] model__max_depth=3, model__learning_rate=0.1, model__n_estimators=300 \n",
      "[CV]  model__max_depth=3, model__learning_rate=0.1, model__n_estimators=300 -   2.9s\n",
      "[CV] model__max_depth=3, model__learning_rate=0.1, model__n_estimators=300 \n",
      "[CV]  model__max_depth=3, model__learning_rate=0.1, model__n_estimators=300 -   3.2s\n",
      "[CV] model__max_depth=3, model__learning_rate=0.1, model__n_estimators=300 \n",
      "[CV]  model__max_depth=3, model__learning_rate=0.1, model__n_estimators=300 -   2.8s\n",
      "[CV] model__max_depth=3, model__learning_rate=0.1, model__n_estimators=300 \n",
      "[CV]  model__max_depth=3, model__learning_rate=0.1, model__n_estimators=300 -   3.1s\n",
      "[CV] model__max_depth=9, model__learning_rate=0.1, model__n_estimators=300 \n",
      "[CV]  model__max_depth=9, model__learning_rate=0.1, model__n_estimators=300 -  17.8s\n",
      "[CV] model__max_depth=9, model__learning_rate=0.1, model__n_estimators=300 \n",
      "[CV]  model__max_depth=9, model__learning_rate=0.1, model__n_estimators=300 -  17.5s\n",
      "[CV] model__max_depth=9, model__learning_rate=0.1, model__n_estimators=300 \n",
      "[CV]  model__max_depth=9, model__learning_rate=0.1, model__n_estimators=300 -  17.9s\n",
      "[CV] model__max_depth=9, model__learning_rate=0.1, model__n_estimators=300 \n",
      "[CV]  model__max_depth=9, model__learning_rate=0.1, model__n_estimators=300 -  19.1s\n",
      "[CV] model__max_depth=9, model__learning_rate=0.1, model__n_estimators=300 \n",
      "[CV]  model__max_depth=9, model__learning_rate=0.1, model__n_estimators=300 -  18.7s\n",
      "[CV] model__max_depth=1, model__learning_rate=0.1, model__n_estimators=300 \n",
      "[CV]  model__max_depth=1, model__learning_rate=0.1, model__n_estimators=300 -   0.6s\n",
      "[CV] model__max_depth=1, model__learning_rate=0.1, model__n_estimators=300 \n",
      "[CV]  model__max_depth=1, model__learning_rate=0.1, model__n_estimators=300 -   0.7s\n",
      "[CV] model__max_depth=1, model__learning_rate=0.1, model__n_estimators=300 \n",
      "[CV]  model__max_depth=1, model__learning_rate=0.1, model__n_estimators=300 -   0.7s\n",
      "[CV] model__max_depth=1, model__learning_rate=0.1, model__n_estimators=300 \n",
      "[CV]  model__max_depth=1, model__learning_rate=0.1, model__n_estimators=300 -   0.7s\n",
      "[CV] model__max_depth=1, model__learning_rate=0.1, model__n_estimators=300 \n",
      "[CV]  model__max_depth=1, model__learning_rate=0.1, model__n_estimators=300 -   0.7s\n",
      "[CV] model__max_depth=4, model__learning_rate=0.03, model__n_estimators=500 \n",
      "[CV]  model__max_depth=4, model__learning_rate=0.03, model__n_estimators=500 -   6.5s\n",
      "[CV] model__max_depth=4, model__learning_rate=0.03, model__n_estimators=500 \n",
      "[CV]  model__max_depth=4, model__learning_rate=0.03, model__n_estimators=500 -   6.5s\n",
      "[CV] model__max_depth=4, model__learning_rate=0.03, model__n_estimators=500 \n",
      "[CV]  model__max_depth=4, model__learning_rate=0.03, model__n_estimators=500 -   6.5s\n",
      "[CV] model__max_depth=4, model__learning_rate=0.03, model__n_estimators=500 \n",
      "[CV]  model__max_depth=4, model__learning_rate=0.03, model__n_estimators=500 -   6.8s\n",
      "[CV] model__max_depth=4, model__learning_rate=0.03, model__n_estimators=500 \n",
      "[CV]  model__max_depth=4, model__learning_rate=0.03, model__n_estimators=500 -   7.0s\n",
      "[CV] model__max_depth=2, model__learning_rate=0.1, model__n_estimators=300 \n",
      "[CV]  model__max_depth=2, model__learning_rate=0.1, model__n_estimators=300 -   1.5s\n",
      "[CV] model__max_depth=2, model__learning_rate=0.1, model__n_estimators=300 \n",
      "[CV]  model__max_depth=2, model__learning_rate=0.1, model__n_estimators=300 -   1.5s\n",
      "[CV] model__max_depth=2, model__learning_rate=0.1, model__n_estimators=300 \n",
      "[CV]  model__max_depth=2, model__learning_rate=0.1, model__n_estimators=300 -   1.5s\n",
      "[CV] model__max_depth=2, model__learning_rate=0.1, model__n_estimators=300 \n",
      "[CV]  model__max_depth=2, model__learning_rate=0.1, model__n_estimators=300 -   1.6s\n",
      "[CV] model__max_depth=2, model__learning_rate=0.1, model__n_estimators=300 \n",
      "[CV]  model__max_depth=2, model__learning_rate=0.1, model__n_estimators=300 -   1.6s\n",
      "[CV] model__max_depth=10, model__learning_rate=0.1, model__n_estimators=500 \n",
      "[CV]  model__max_depth=10, model__learning_rate=0.1, model__n_estimators=500 -  35.5s\n",
      "[CV] model__max_depth=10, model__learning_rate=0.1, model__n_estimators=500 \n",
      "[CV]  model__max_depth=10, model__learning_rate=0.1, model__n_estimators=500 -  39.7s\n",
      "[CV] model__max_depth=10, model__learning_rate=0.1, model__n_estimators=500 \n",
      "[CV]  model__max_depth=10, model__learning_rate=0.1, model__n_estimators=500 -  41.7s\n",
      "[CV] model__max_depth=10, model__learning_rate=0.1, model__n_estimators=500 \n",
      "[CV]  model__max_depth=10, model__learning_rate=0.1, model__n_estimators=500 -  41.8s\n",
      "[CV] model__max_depth=10, model__learning_rate=0.1, model__n_estimators=500 \n",
      "[CV]  model__max_depth=10, model__learning_rate=0.1, model__n_estimators=500 -  41.2s\n",
      "[CV] model__max_depth=1, model__learning_rate=0.1, model__n_estimators=300 \n",
      "[CV]  model__max_depth=1, model__learning_rate=0.1, model__n_estimators=300 -   0.7s\n",
      "[CV] model__max_depth=1, model__learning_rate=0.1, model__n_estimators=300 \n",
      "[CV]  model__max_depth=1, model__learning_rate=0.1, model__n_estimators=300 -   0.6s\n",
      "[CV] model__max_depth=1, model__learning_rate=0.1, model__n_estimators=300 \n",
      "[CV]  model__max_depth=1, model__learning_rate=0.1, model__n_estimators=300 -   0.7s\n",
      "[CV] model__max_depth=1, model__learning_rate=0.1, model__n_estimators=300 \n",
      "[CV]  model__max_depth=1, model__learning_rate=0.1, model__n_estimators=300 -   0.8s\n",
      "[CV] model__max_depth=1, model__learning_rate=0.1, model__n_estimators=300 \n",
      "[CV]  model__max_depth=1, model__learning_rate=0.1, model__n_estimators=300 -   0.8s\n",
      "[CV] model__max_depth=4, model__learning_rate=0.1, model__n_estimators=300 \n",
      "[CV]  model__max_depth=4, model__learning_rate=0.1, model__n_estimators=300 -   3.8s\n",
      "[CV] model__max_depth=4, model__learning_rate=0.1, model__n_estimators=300 \n",
      "[CV]  model__max_depth=4, model__learning_rate=0.1, model__n_estimators=300 -   4.4s\n",
      "[CV] model__max_depth=4, model__learning_rate=0.1, model__n_estimators=300 \n",
      "[CV]  model__max_depth=4, model__learning_rate=0.1, model__n_estimators=300 -   3.9s\n",
      "[CV] model__max_depth=4, model__learning_rate=0.1, model__n_estimators=300 \n",
      "[CV]  model__max_depth=4, model__learning_rate=0.1, model__n_estimators=300 -   3.9s\n",
      "[CV] model__max_depth=4, model__learning_rate=0.1, model__n_estimators=300 \n",
      "[CV]  model__max_depth=4, model__learning_rate=0.1, model__n_estimators=300 -   4.8s\n",
      "[CV] model__max_depth=2, model__learning_rate=0.1, model__n_estimators=500 \n",
      "[CV]  model__max_depth=2, model__learning_rate=0.1, model__n_estimators=500 -   2.7s\n",
      "[CV] model__max_depth=2, model__learning_rate=0.1, model__n_estimators=500 \n",
      "[CV]  model__max_depth=2, model__learning_rate=0.1, model__n_estimators=500 -   2.7s\n",
      "[CV] model__max_depth=2, model__learning_rate=0.1, model__n_estimators=500 \n",
      "[CV]  model__max_depth=2, model__learning_rate=0.1, model__n_estimators=500 -   2.6s\n",
      "[CV] model__max_depth=2, model__learning_rate=0.1, model__n_estimators=500 \n",
      "[CV]  model__max_depth=2, model__learning_rate=0.1, model__n_estimators=500 -   2.7s\n",
      "[CV] model__max_depth=2, model__learning_rate=0.1, model__n_estimators=500 \n",
      "[CV]  model__max_depth=2, model__learning_rate=0.1, model__n_estimators=500 -   2.7s\n",
      "[CV] model__max_depth=7, model__learning_rate=0.1, model__n_estimators=500 \n",
      "[CV]  model__max_depth=7, model__learning_rate=0.1, model__n_estimators=500 -  15.7s\n",
      "[CV] model__max_depth=7, model__learning_rate=0.1, model__n_estimators=500 \n",
      "[CV]  model__max_depth=7, model__learning_rate=0.1, model__n_estimators=500 -  16.3s\n",
      "[CV] model__max_depth=7, model__learning_rate=0.1, model__n_estimators=500 \n",
      "[CV]  model__max_depth=7, model__learning_rate=0.1, model__n_estimators=500 -  17.9s\n",
      "[CV] model__max_depth=7, model__learning_rate=0.1, model__n_estimators=500 \n",
      "[CV]  model__max_depth=7, model__learning_rate=0.1, model__n_estimators=500 -  18.8s\n",
      "[CV] model__max_depth=7, model__learning_rate=0.1, model__n_estimators=500 \n",
      "[CV]  model__max_depth=7, model__learning_rate=0.1, model__n_estimators=500 -  19.4s\n",
      "[CV] model__max_depth=9, model__learning_rate=0.03, model__n_estimators=300 \n",
      "[CV]  model__max_depth=9, model__learning_rate=0.03, model__n_estimators=300 -  23.9s\n",
      "[CV] model__max_depth=9, model__learning_rate=0.03, model__n_estimators=300 \n",
      "[CV]  model__max_depth=9, model__learning_rate=0.03, model__n_estimators=300 -  24.1s\n",
      "[CV] model__max_depth=9, model__learning_rate=0.03, model__n_estimators=300 \n",
      "[CV]  model__max_depth=9, model__learning_rate=0.03, model__n_estimators=300 -  25.0s\n",
      "[CV] model__max_depth=9, model__learning_rate=0.03, model__n_estimators=300 \n",
      "[CV]  model__max_depth=9, model__learning_rate=0.03, model__n_estimators=300 -  25.5s\n",
      "[CV] model__max_depth=9, model__learning_rate=0.03, model__n_estimators=300 \n",
      "[CV]  model__max_depth=9, model__learning_rate=0.03, model__n_estimators=300 -  23.9s\n",
      "RandomizedSearchCV took 1578.00 seconds for 20 candidates parameter settings.\n",
      "Model with rank: 1\n",
      "Mean validation score: -0.330 (std: 0.010)\n",
      "Parameters: {'model__max_depth': 6, 'model__learning_rate': 0.03, 'model__n_estimators': 500}\n",
      "\n",
      "Model with rank: 2\n",
      "Mean validation score: -0.331 (std: 0.010)\n",
      "Parameters: {'model__max_depth': 6, 'model__learning_rate': 0.03, 'model__n_estimators': 500}\n",
      "\n",
      "Model with rank: 3\n",
      "Mean validation score: -0.337 (std: 0.008)\n",
      "Parameters: {'model__max_depth': 7, 'model__learning_rate': 0.1, 'model__n_estimators': 500}\n",
      "\n"
     ]
    },
    {
     "name": "stderr",
     "output_type": "stream",
     "text": [
      "[Parallel(n_jobs=1)]: Done 100 out of 100 | elapsed: 26.0min finished\n"
     ]
    }
   ],
   "source": [
    "import sklearn.cross_validation as skcv\n",
    "import sklearn.metrics as skmet\n",
    "from sklearn.preprocessing import MinMaxScaler\n",
    "from sklearn.ensemble import GradientBoostingRegressor\n",
    "from sklearn.pipeline import Pipeline\n",
    "from sklearn.grid_search import RandomizedSearchCV\n",
    "from scipy.stats import randint as sp_randint\n",
    "from time import time\n",
    "\n",
    "\n",
    "cross_validation_object = skcv.StratifiedKFold(log_y, n_folds = 5)\n",
    "neg_scorefun = skmet.make_scorer(lambda x, y: -logscore2(x,y))\n",
    "\n",
    "scaler = MinMaxScaler()\n",
    "regressor_GBR = GradientBoostingRegressor()\n",
    "\n",
    "pipeline_object = Pipeline([('scaler', scaler),('model', regressor_GBR)])\n",
    "\n",
    "\n",
    "n_features = X.shape[1]\n",
    "\n",
    "param_dist = {\"model__learning_rate\": [ 0.03, 0.1],\n",
    "              \"model__max_depth\": sp_randint(1, n_features),\n",
    "              \"model__n_estimators\" : [300, 500]}\n",
    "\n",
    "n_iter_search = 20\n",
    "random_search_gbr = RandomizedSearchCV(pipeline_object, param_distributions=param_dist,\n",
    "                                   n_iter=n_iter_search, cv = cross_validation_object,\n",
    "                                   scoring=neg_scorefun, n_jobs=1, verbose=2)\n",
    "\n",
    "start = time()\n",
    "random_search_gbr.fit(X, log_y)\n",
    "print(\"RandomizedSearchCV took %.2f seconds for %d candidates\"\n",
    "      \" parameter settings.\" % ((time() - start), n_iter_search))\n",
    "report(random_search_gbr)"
   ]
  },
  {
   "cell_type": "code",
   "execution_count": 36,
   "metadata": {
    "collapsed": false
   },
   "outputs": [],
   "source": [
    "Xval = read_data('validate.csv')\n",
    "Xval = np.array(Xval).astype(np.float)\n",
    "Ypred = random_search_gbr.best_estimator_.predict(Xval)\n",
    "Ypred = np.exp(Ypred)-1\n",
    "np.savetxt('result_validate-final.txt', Ypred)"
   ]
  },
  {
   "cell_type": "code",
   "execution_count": 38,
   "metadata": {
    "collapsed": false
   },
   "outputs": [],
   "source": [
    "Xtest = read_data('test.csv')\n",
    "Xtest = np.array(Xtest).astype(np.float)\n",
    "Ytest = random_search_gbr.best_estimator_.predict(Xtest)\n",
    "Ytest = np.exp(Ytest)-1\n",
    "np.savetxt('result_test.txt', Ytest)"
   ]
  },
  {
   "cell_type": "code",
   "execution_count": null,
   "metadata": {
    "collapsed": true
   },
   "outputs": [],
   "source": []
  }
 ],
 "metadata": {
  "kernelspec": {
   "display_name": "Python 2",
   "language": "python",
   "name": "python2"
  },
  "language_info": {
   "codemirror_mode": {
    "name": "ipython",
    "version": 2
   },
   "file_extension": ".py",
   "mimetype": "text/x-python",
   "name": "python",
   "nbconvert_exporter": "python",
   "pygments_lexer": "ipython2",
   "version": "2.7.10"
  }
 },
 "nbformat": 4,
 "nbformat_minor": 0
}
