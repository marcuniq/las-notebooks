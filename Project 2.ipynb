{
 "cells": [
  {
   "cell_type": "markdown",
   "metadata": {},
   "source": [
    "# Learning and Intelligent Systems - Spring 2015\n",
    "\n",
    "## Project 2: Two-Label Classification"
   ]
  },
  {
   "cell_type": "code",
   "execution_count": 1,
   "metadata": {
    "collapsed": true
   },
   "outputs": [],
   "source": [
    "import numpy as np\n",
    "import matplotlib.pylab as plt\n",
    "import pandas as pd\n",
    "%matplotlib inline"
   ]
  },
  {
   "cell_type": "code",
   "execution_count": 2,
   "metadata": {
    "collapsed": true
   },
   "outputs": [],
   "source": [
    "df_train = pd.read_csv('train.csv', header = None)"
   ]
  },
  {
   "cell_type": "code",
   "execution_count": 3,
   "metadata": {
    "collapsed": true
   },
   "outputs": [],
   "source": [
    "df_train_y = pd.read_csv('train_y.csv', header = None)"
   ]
  },
  {
   "cell_type": "code",
   "execution_count": 4,
   "metadata": {
    "collapsed": true
   },
   "outputs": [],
   "source": [
    "from sklearn.semi_supervised import LabelPropagation, LabelSpreading\n",
    "\n",
    "\n",
    "def get_features(x):\n",
    "    return x.drop(x.columns[9:],axis=1)\n",
    "\n",
    "x_semi = df_train.copy()\n",
    "y_semi = df_train_y.copy()\n",
    "\n",
    "df_val_x_semi = pd.read_csv('validate.csv', header = None, low_memory=False)\n",
    "df_val_y_semi = pd.DataFrame(np.zeros((df_val_x_semi.shape[0],2)).astype(np.int))\n",
    "\n",
    "df_test_x_semi = pd.read_csv('test.csv', header = None, low_memory=False)\n",
    "df_test_y_semi = pd.DataFrame(np.zeros((df_test_x_semi.shape[0],2)).astype(np.int))\n",
    "\n",
    "df_val_y_semi.iloc[:,:] = -1\n",
    "df_test_y_semi.iloc[:,:] = -1\n",
    "\n",
    "x_semi = pd.concat([x_semi, df_val_x_semi, df_test_x_semi])\n",
    "y_semi = pd.concat([y_semi, df_val_y_semi, df_test_y_semi])\n",
    "\n",
    "x_semi = get_features(x_semi)\n",
    "df_val_x_semi = get_features(df_val_x_semi)\n",
    "df_test_x_semi = get_features(df_test_x_semi)\n",
    "\n",
    "\n",
    "label_model = LabelSpreading(kernel='knn')\n",
    "\n",
    "\n",
    "label_model.fit(x_semi, y_semi[0])\n",
    "y_semi_predict_0 = label_model.predict(df_test_x_semi)\n",
    "\n",
    "label_model.fit(x_semi, y_semi[1])\n",
    "y_semi_predict_1 = label_model.predict(df_test_x_semi)\n",
    "\n",
    "y_semi_test = pd.concat([pd.DataFrame(y_semi_predict_0), pd.DataFrame(y_semi_predict_1)],axis=1)\n",
    "y_semi_test.to_csv('result-test-final.csv', header = False, low_memory=False, index=False)"
   ]
  }
 ],
 "metadata": {
  "kernelspec": {
   "display_name": "Python 2",
   "language": "python",
   "name": "python2"
  },
  "language_info": {
   "codemirror_mode": {
    "name": "ipython",
    "version": 2
   },
   "file_extension": ".py",
   "mimetype": "text/x-python",
   "name": "python",
   "nbconvert_exporter": "python",
   "pygments_lexer": "ipython2",
   "version": "2.7.10"
  }
 },
 "nbformat": 4,
 "nbformat_minor": 0
}
